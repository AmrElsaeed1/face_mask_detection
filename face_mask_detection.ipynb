{
  "nbformat": 4,
  "nbformat_minor": 0,
  "metadata": {
    "colab": {
      "provenance": []
    },
    "kernelspec": {
      "name": "python3",
      "display_name": "Python 3"
    },
    "language_info": {
      "name": "python"
    },
    "accelerator": "GPU",
    "gpuClass": "standard"
  },
  "cells": [
    {
      "cell_type": "code",
      "source": [
        "# import the necessary packages\n",
        "import tensorflow \n",
        "from tensorflow.keras.preprocessing.image import ImageDataGenerator\n",
        "from tensorflow.keras.applications import MobileNetV2\n",
        "from tensorflow.keras.layers import MaxPooling2D\n",
        "from tensorflow.keras.layers import Dropout\n",
        "from tensorflow.keras.layers import Flatten\n",
        "from tensorflow.keras.layers import Dense\n",
        "from tensorflow.keras.layers import Input\n",
        "from tensorflow.keras.models import Model\n",
        "from tensorflow.keras.optimizers import Adam\n",
        "from tensorflow.keras.applications.mobilenet_v2 import preprocess_input\n",
        "from tensorflow.keras.preprocessing.image import img_to_array\n",
        "from tensorflow.keras.preprocessing.image import load_img\n",
        "from tensorflow.keras.utils import to_categorical\n",
        "from sklearn.preprocessing import LabelBinarizer\n",
        "from sklearn.model_selection import train_test_split\n",
        "from sklearn.metrics import classification_report\n",
        "from imutils import paths\n",
        "import matplotlib.pyplot as plt\n",
        "import numpy as np\n",
        "import os"
      ],
      "metadata": {
        "id": "erjIK1PTx0kn"
      },
      "execution_count": null,
      "outputs": []
    },
    {
      "cell_type": "code",
      "source": [
        "import sys\n",
        " \n",
        " \n",
        "print(\"User Current Version:-\", sys.version)"
      ],
      "metadata": {
        "colab": {
          "base_uri": "https://localhost:8080/"
        },
        "id": "4KI6VseLyZxk",
        "outputId": "149e62ec-e189-405c-bacf-4e89a154b015"
      },
      "execution_count": null,
      "outputs": [
        {
          "output_type": "stream",
          "name": "stdout",
          "text": [
            "User Current Version:- 3.9.16 (main, Dec  7 2022, 01:11:51) \n",
            "[GCC 9.4.0]\n"
          ]
        }
      ]
    },
    {
      "cell_type": "code",
      "source": [
        "\n",
        "from platform import python_version\n",
        " \n",
        " \n",
        "print(\"Current Python Version-\", python_version())"
      ],
      "metadata": {
        "colab": {
          "base_uri": "https://localhost:8080/"
        },
        "id": "Q7Ds2uAEzF-B",
        "outputId": "7e667466-bbee-41a1-ca13-a36ee7982d1a"
      },
      "execution_count": null,
      "outputs": [
        {
          "output_type": "stream",
          "name": "stdout",
          "text": [
            "Current Python Version- 3.9.16\n"
          ]
        }
      ]
    },
    {
      "cell_type": "code",
      "source": [
        "print(tensorflow.__version__)"
      ],
      "metadata": {
        "colab": {
          "base_uri": "https://localhost:8080/"
        },
        "id": "MQUN0LBeWMsv",
        "outputId": "7d3b0c0f-45f8-4f1a-ac58-e35ff19dfada"
      },
      "execution_count": null,
      "outputs": [
        {
          "output_type": "stream",
          "name": "stdout",
          "text": [
            "2.11.0\n"
          ]
        }
      ]
    },
    {
      "cell_type": "code",
      "source": [
        "\n",
        "DIRECTORY = r\"/content/drive/MyDrive/face mask detection\"\n",
        "CATEGORIES = [\"with_mask\", \"without_mask\"]\n",
        "\n",
        "# grab the list of images in our dataset directory, then initialize\n",
        "# the list of data (i.e., images) and class images\n",
        "print(\"[INFO] loading images...\")\n",
        "\n",
        "data = []\n",
        "labels = []\n",
        "\n",
        "for category in CATEGORIES:\n",
        "    path = os.path.join(DIRECTORY, category)\n",
        "    for img in os.listdir(path):\n",
        "    \timg_path = os.path.join(path, img)\n",
        "    \timage = load_img(img_path, target_size=(224, 224))\n",
        "    \timage = img_to_array(image)\n",
        "    \timage = preprocess_input(image)\n",
        "\n",
        "    \tdata.append(image)\n",
        "    \tlabels.append(category)\n"
      ],
      "metadata": {
        "colab": {
          "base_uri": "https://localhost:8080/"
        },
        "id": "scLHoCVbx0iC",
        "outputId": "9ac7c254-5bb8-40a1-b0cc-0b211f24f724"
      },
      "execution_count": null,
      "outputs": [
        {
          "output_type": "stream",
          "name": "stdout",
          "text": [
            "[INFO] loading images...\n"
          ]
        },
        {
          "output_type": "stream",
          "name": "stderr",
          "text": [
            "/usr/local/lib/python3.9/dist-packages/PIL/Image.py:975: UserWarning: Palette images with Transparency expressed in bytes should be converted to RGBA images\n",
            "  warnings.warn(\n"
          ]
        }
      ]
    },
    {
      "cell_type": "code",
      "source": [
        "INIT_LR = .0001\n",
        "EPOCHS = 20\n",
        "BS = 32"
      ],
      "metadata": {
        "id": "X7iJxajP5Ggu"
      },
      "execution_count": null,
      "outputs": []
    },
    {
      "cell_type": "code",
      "source": [
        "# perform one-hot encoding on the labels\n",
        "lb = LabelBinarizer()\n",
        "labels = lb.fit_transform(labels)\n",
        "labels = to_categorical(labels)\n",
        "\n",
        "data = np.array(data, dtype=\"float32\")\n",
        "labels = np.array(labels)"
      ],
      "metadata": {
        "id": "96Vbv5Z2x0fq"
      },
      "execution_count": null,
      "outputs": []
    },
    {
      "cell_type": "code",
      "source": [
        "(trainX, testX, trainY, testY) = train_test_split(data, labels,\n",
        "\ttest_size=0.20, stratify=labels, random_state=42)\n"
      ],
      "metadata": {
        "id": "Oi4naBGPx0dH"
      },
      "execution_count": null,
      "outputs": []
    },
    {
      "cell_type": "code",
      "source": [
        "aug = ImageDataGenerator(\n",
        "\trotation_range=20,\n",
        "\tzoom_range=0.15,\n",
        "\twidth_shift_range=0.2,\n",
        "\theight_shift_range=0.2,\n",
        "\tshear_range=0.15,\n",
        "\thorizontal_flip=True,\n",
        "\tfill_mode=\"nearest\")"
      ],
      "metadata": {
        "id": "SppY3CStx0ap"
      },
      "execution_count": null,
      "outputs": []
    },
    {
      "cell_type": "code",
      "source": [
        " #load the MobileNetV2 network, ensuring the head FC layer sets are\n",
        "# left off\n",
        "baseModel = MobileNetV2(weights=\"imagenet\", include_top=False,\n",
        "\tinput_tensor=Input(shape=(224, 224, 3)))\n",
        "\n",
        "# construct the head of the model that will be placed on top of the\n",
        "# the base model\n",
        "headModel = baseModel.output\n",
        "headModel = MaxPooling2D(pool_size=(2, 2))(headModel)\n",
        "headModel = Flatten(name=\"flatten\")(headModel)\n",
        "headModel = Dense(128, activation=\"relu\")(headModel)\n",
        "headModel = Dropout(0.5)(headModel)\n",
        "headModel = Dense(2, activation=\"softmax\")(headModel)\n",
        "\n",
        "# place the head FC model on top of the base model (this will become\n",
        "# the actual model we will train)\n",
        "model = Model(inputs=baseModel.input, outputs=headModel)"
      ],
      "metadata": {
        "colab": {
          "base_uri": "https://localhost:8080/"
        },
        "id": "zTrtEPzCx0Yd",
        "outputId": "8f9c719e-5320-4a18-c37f-2e78dec26528"
      },
      "execution_count": null,
      "outputs": [
        {
          "output_type": "stream",
          "name": "stderr",
          "text": [
            "WARNING:tensorflow:`input_shape` is undefined or non-square, or `rows` is not in [96, 128, 160, 192, 224]. Weights for input shape (224, 224) will be loaded as the default.\n"
          ]
        }
      ]
    },
    {
      "cell_type": "code",
      "source": [
        "#base_learning_rate = 0.0001\n",
        "#model.compile(optimizer=tf.keras.optimizers.Adam(lr=base_learning_rate),loss=tf.keras.losses.binary_crossentropy(),metrics=['accuracy'])"
      ],
      "metadata": {
        "id": "2qZzIKYY8vAW"
      },
      "execution_count": null,
      "outputs": []
    },
    {
      "cell_type": "code",
      "source": [
        "# *not* be updated during the first training process\n",
        "for layer in baseModel.layers:\n",
        "\tlayer.trainable = False\n",
        "\n",
        "# compile our model\n",
        "print(\"[INFO] compiling model...\")\n",
        "opt = Adam(learning_rate=INIT_LR)\n",
        "model.compile(loss=\"binary_crossentropy\", optimizer=opt,\n",
        "\tmetrics=[\"accuracy\"])"
      ],
      "metadata": {
        "colab": {
          "base_uri": "https://localhost:8080/"
        },
        "id": "6HV8TzmBx0W8",
        "outputId": "0f1f70ea-67d1-40ef-fd53-a7529b58aca3"
      },
      "execution_count": null,
      "outputs": [
        {
          "output_type": "stream",
          "name": "stdout",
          "text": [
            "[INFO] compiling model...\n"
          ]
        }
      ]
    },
    {
      "cell_type": "code",
      "source": [
        "callback=tf.keras.callbacks.EarlyStopping(\n",
        "    monitor=\"accuracy\",\n",
        "    min_delta=0,\n",
        "    patience=15,\n",
        "    verbose=2,\n",
        "    mode=\"auto\",\n",
        "    baseline=None,\n",
        "    restore_best_weights=False,\n",
        ")"
      ],
      "metadata": {
        "id": "3127UkTM2Mnn"
      },
      "execution_count": null,
      "outputs": []
    },
    {
      "cell_type": "code",
      "source": [
        "H = model.fit(\n",
        "\taug.flow(trainX, trainY, batch_size=BS),\n",
        "\tsteps_per_epoch=len(trainX) // BS,\n",
        "\tvalidation_data=(testX, testY),\n",
        "\tvalidation_steps=len(testX) // BS,\n",
        "\tepochs=EPOCHS,callbacks=[callback])"
      ],
      "metadata": {
        "colab": {
          "base_uri": "https://localhost:8080/"
        },
        "id": "sWgmgsnLx0UM",
        "outputId": "4a2315ba-933f-4071-97d5-491b6646c820"
      },
      "execution_count": null,
      "outputs": [
        {
          "output_type": "stream",
          "name": "stdout",
          "text": [
            "Epoch 1/20\n",
            "95/95 [==============================] - 52s 412ms/step - loss: 0.1838 - accuracy: 0.9446 - val_loss: 0.0554 - val_accuracy: 0.9817\n",
            "Epoch 2/20\n",
            "95/95 [==============================] - 37s 392ms/step - loss: 0.0644 - accuracy: 0.9815 - val_loss: 0.0414 - val_accuracy: 0.9870\n",
            "Epoch 3/20\n",
            "95/95 [==============================] - 37s 387ms/step - loss: 0.0564 - accuracy: 0.9855 - val_loss: 0.0372 - val_accuracy: 0.9870\n",
            "Epoch 4/20\n",
            "95/95 [==============================] - 37s 388ms/step - loss: 0.0545 - accuracy: 0.9832 - val_loss: 0.0326 - val_accuracy: 0.9857\n",
            "Epoch 5/20\n",
            "95/95 [==============================] - 38s 403ms/step - loss: 0.0445 - accuracy: 0.9862 - val_loss: 0.0230 - val_accuracy: 0.9909\n",
            "Epoch 6/20\n",
            "95/95 [==============================] - 37s 388ms/step - loss: 0.0370 - accuracy: 0.9898 - val_loss: 0.0343 - val_accuracy: 0.9896\n",
            "Epoch 7/20\n",
            "95/95 [==============================] - 37s 386ms/step - loss: 0.0344 - accuracy: 0.9888 - val_loss: 0.0344 - val_accuracy: 0.9922\n",
            "Epoch 8/20\n",
            "95/95 [==============================] - 37s 385ms/step - loss: 0.0247 - accuracy: 0.9934 - val_loss: 0.0271 - val_accuracy: 0.9935\n",
            "Epoch 9/20\n",
            "95/95 [==============================] - 37s 388ms/step - loss: 0.0331 - accuracy: 0.9895 - val_loss: 0.0177 - val_accuracy: 0.9935\n",
            "Epoch 10/20\n",
            "95/95 [==============================] - 36s 376ms/step - loss: 0.0288 - accuracy: 0.9904 - val_loss: 0.0281 - val_accuracy: 0.9935\n",
            "Epoch 11/20\n",
            "95/95 [==============================] - 36s 382ms/step - loss: 0.0272 - accuracy: 0.9918 - val_loss: 0.0204 - val_accuracy: 0.9935\n",
            "Epoch 12/20\n",
            "95/95 [==============================] - 37s 388ms/step - loss: 0.0270 - accuracy: 0.9908 - val_loss: 0.0208 - val_accuracy: 0.9935\n",
            "Epoch 13/20\n",
            "95/95 [==============================] - 39s 412ms/step - loss: 0.0266 - accuracy: 0.9898 - val_loss: 0.0370 - val_accuracy: 0.9883\n",
            "Epoch 14/20\n",
            "95/95 [==============================] - 37s 394ms/step - loss: 0.0246 - accuracy: 0.9911 - val_loss: 0.0159 - val_accuracy: 0.9948\n",
            "Epoch 15/20\n",
            "95/95 [==============================] - 38s 401ms/step - loss: 0.0225 - accuracy: 0.9954 - val_loss: 0.0241 - val_accuracy: 0.9922\n",
            "Epoch 16/20\n",
            "95/95 [==============================] - 37s 390ms/step - loss: 0.0168 - accuracy: 0.9951 - val_loss: 0.0226 - val_accuracy: 0.9935\n",
            "Epoch 17/20\n",
            "95/95 [==============================] - 38s 397ms/step - loss: 0.0214 - accuracy: 0.9927 - val_loss: 0.0110 - val_accuracy: 0.9974\n",
            "Epoch 18/20\n",
            "95/95 [==============================] - 37s 394ms/step - loss: 0.0264 - accuracy: 0.9914 - val_loss: 0.0117 - val_accuracy: 0.9961\n",
            "Epoch 19/20\n",
            "95/95 [==============================] - 37s 395ms/step - loss: 0.0222 - accuracy: 0.9924 - val_loss: 0.0168 - val_accuracy: 0.9948\n",
            "Epoch 20/20\n",
            "95/95 [==============================] - 35s 369ms/step - loss: 0.0223 - accuracy: 0.9934 - val_loss: 0.0153 - val_accuracy: 0.9948\n"
          ]
        }
      ]
    },
    {
      "cell_type": "code",
      "source": [
        "predIdxs = model.predict(testX, batch_size=BS)\n"
      ],
      "metadata": {
        "colab": {
          "base_uri": "https://localhost:8080/"
        },
        "id": "Vj6dkRyJx0Rf",
        "outputId": "8b53aeaa-9b7d-4357-e1b6-8105dec70d46"
      },
      "execution_count": null,
      "outputs": [
        {
          "output_type": "stream",
          "name": "stdout",
          "text": [
            "24/24 [==============================] - 2s 60ms/step\n"
          ]
        }
      ]
    },
    {
      "cell_type": "code",
      "source": [
        "predIdxs = np.argmax(predIdxs, axis=1)\n"
      ],
      "metadata": {
        "id": "-GOstvyKx0Oe"
      },
      "execution_count": null,
      "outputs": []
    },
    {
      "cell_type": "code",
      "source": [
        "\n",
        "# show a nicely formatted classification report\n",
        "print(classification_report(testY.argmax(axis=1), predIdxs,\n",
        "\ttarget_names=lb.classes_))"
      ],
      "metadata": {
        "colab": {
          "base_uri": "https://localhost:8080/"
        },
        "id": "j8fKDZ6ax0L1",
        "outputId": "8017cb49-5f06-4740-fd44-a2b63ca8c549"
      },
      "execution_count": null,
      "outputs": [
        {
          "output_type": "stream",
          "name": "stdout",
          "text": [
            "              precision    recall  f1-score   support\n",
            "\n",
            "   with_mask       0.99      1.00      0.99       383\n",
            "without_mask       1.00      0.99      0.99       384\n",
            "\n",
            "    accuracy                           0.99       767\n",
            "   macro avg       0.99      0.99      0.99       767\n",
            "weighted avg       0.99      0.99      0.99       767\n",
            "\n"
          ]
        }
      ]
    },
    {
      "cell_type": "code",
      "source": [
        "model.save(\"mask_detector.model\", save_format=\"h5\")"
      ],
      "metadata": {
        "id": "YZjM2HGZx0JZ"
      },
      "execution_count": null,
      "outputs": []
    },
    {
      "cell_type": "code",
      "source": [
        "N = EPOCHS\n",
        "plt.style.use(\"ggplot\")\n",
        "plt.figure()\n",
        "plt.plot(np.arange(0, N), H.history[\"loss\"], label=\"train_loss\")\n",
        "plt.plot(np.arange(0, N), H.history[\"val_loss\"], label=\"val_loss\")\n",
        "plt.plot(np.arange(0, N), H.history[\"accuracy\"], label=\"train_acc\")\n",
        "plt.plot(np.arange(0, N), H.history[\"val_accuracy\"], label=\"val_acc\")\n",
        "plt.title(\"Training Loss and Accuracy\")\n",
        "plt.xlabel(\"Epoch #\")\n",
        "plt.ylabel(\"Loss/Accuracy\")\n",
        "plt.legend(loc=\"lower left\")\n",
        "plt.savefig(\"plot.png\")"
      ],
      "metadata": {
        "colab": {
          "base_uri": "https://localhost:8080/",
          "height": 299
        },
        "id": "2kK5UZjmx0G9",
        "outputId": "3c031974-8986-4bf1-9e4e-a9e1c1f22699"
      },
      "execution_count": null,
      "outputs": [
        {
          "output_type": "display_data",
          "data": {
            "text/plain": [
              "<Figure size 432x288 with 1 Axes>"
            ],
            "image/png": "[encoded data removed]"
          },
          "metadata": {}
        }
      ]
    },
    {
      "cell_type": "code",
      "source": [],
      "metadata": {
        "id": "R0X4Oi5Phe4r"
      },
      "execution_count": null,
      "outputs": []
    }
  ]
}